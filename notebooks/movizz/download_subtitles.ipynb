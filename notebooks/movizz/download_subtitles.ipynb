{
 "cells": [
  {
   "cell_type": "markdown",
   "metadata": {},
   "source": [
    "# Download subtitles from Open Subtitle\n",
    "From the list of movies (represented by the IMDB id), this notebook allows to download .srt subtitle files"
   ]
  },
  {
   "cell_type": "code",
   "execution_count": null,
   "metadata": {},
   "outputs": [],
   "source": [
    "import urllib.parse\n",
    "import requests\n",
    "from bs4 import BeautifulSoup\n",
    "import pandas as pd\n",
    "import os\n",
    "\n",
    "from datetime import datetime\n",
    "\n",
    "import ssl\n",
    "ssl._create_default_https_context = ssl._create_unverified_context\n",
    "\n",
    "from pythonopensubtitles.opensubtitles import OpenSubtitles\n",
    "from pythonopensubtitles.utils import File"
   ]
  },
  {
   "cell_type": "code",
   "execution_count": null,
   "metadata": {},
   "outputs": [],
   "source": [
    "FOLDER_IMG = \"/home/tanguy/data/movizz/img\"\n",
    "FOLDER_CSV = \"/home/tanguy/data/movizz/csv\"\n",
    "FOLDER_SRT = '/home/tanguy/data/movizz/srt'"
   ]
  },
  {
   "cell_type": "code",
   "execution_count": null,
   "metadata": {},
   "outputs": [],
   "source": [
    "ost = OpenSubtitles() \n",
    "\n",
    "# Your login/password from open subtitle\n",
    "login = 'YOUR***LOGIN'\n",
    "password = 'YOUR***PASSWORD'\n",
    "\n",
    "ost.login(login, password)"
   ]
  },
  {
   "cell_type": "code",
   "execution_count": null,
   "metadata": {},
   "outputs": [],
   "source": []
  },
  {
   "cell_type": "markdown",
   "metadata": {},
   "source": [
    "### From a imdb id, get a subtitle from opensubtitle"
   ]
  },
  {
   "cell_type": "code",
   "execution_count": null,
   "metadata": {},
   "outputs": [],
   "source": [
    "df_movies = pd.read_csv(os.path.join(FOLDER_CSV, 'metadata_movies.csv'), sep=';', index_col=0)"
   ]
  },
  {
   "cell_type": "code",
   "execution_count": null,
   "metadata": {},
   "outputs": [],
   "source": [
    "COUNT_DL = 0\n",
    "count_echec = 0\n",
    "for ttmovie_id in df_movies.index:\n",
    "    list_folder_srt = [filename for filename in [files for root, dirs, files in os.walk(FOLDER_SRT)]][0]\n",
    "    \n",
    "    movie_id = ttmovie_id[2:]\n",
    "    print(movie_id, end=' ')\n",
    "    \n",
    "    if f'{ttmovie_id}.srt' in list_folder_srt:\n",
    "        print('[OK - already dl]')\n",
    "        continue\n",
    "\n",
    "    # Get ID of subtitle file from IMDB ID\n",
    "    data = ost.search_subtitles([{'sublanguageid': 'fre', 'imdbid':movie_id}])\n",
    "    data = [d for d in data if d['SubFormat'] == 'srt']\n",
    "\n",
    "    if len(data) == 0:\n",
    "        print('[----------- ECHEC (data 0) -----------]')\n",
    "        continue\n",
    "    \n",
    "    id_subtitle = data[0]['IDSubtitleFile']\n",
    "    \n",
    "    # Download subtitle file from subtitle ID\n",
    "    for i in range(2):\n",
    "        while True:\n",
    "            try:\n",
    "                res = ost.download_subtitles([id_subtitle], output_directory=FOLDER_SRT, extension='srt')\n",
    "            except ProtocolError:\n",
    "                ost.login(login, password)\n",
    "            break\n",
    "        \n",
    "    COUNT_DL += 1\n",
    "    # Cancels after 5 attempts\n",
    "    if res == None:\n",
    "        if count_echec == 5:\n",
    "            print('[----------- ECHEC (download 5 times) -----------]')\n",
    "            break\n",
    "        count_echec += 1\n",
    "        print('[----------- ECHEC (download) -----------]')\n",
    "        continue\n",
    "#    TODO : Check if 'SubFormat' == 'srt'\n",
    "\n",
    "    file_name_s = f'{id_subtitle}.srt'\n",
    "    file_name_t = f'{ttmovie_id}.srt'\n",
    "    os.rename(os.path.join(FOLDER_SRT,file_name_s), os.path.join(FOLDER_SRT,file_name_t))\n",
    "    print('[OK]')\n"
   ]
  }
 ],
 "metadata": {
  "kernelspec": {
   "display_name": "Python 3",
   "language": "python",
   "name": "python3"
  },
  "language_info": {
   "codemirror_mode": {
    "name": "ipython",
    "version": 3
   },
   "file_extension": ".py",
   "mimetype": "text/x-python",
   "name": "python",
   "nbconvert_exporter": "python",
   "pygments_lexer": "ipython3",
   "version": "3.7.3"
  }
 },
 "nbformat": 4,
 "nbformat_minor": 2
}
