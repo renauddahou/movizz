{
 "cells": [
  {
   "cell_type": "markdown",
   "metadata": {},
   "source": [
    "# Scraping from film-grab for Image Mode\n",
    "For the \"image\" mode, we download the images on the site film-grab.com"
   ]
  },
  {
   "cell_type": "code",
   "execution_count": null,
   "metadata": {},
   "outputs": [],
   "source": [
    "import urllib.parse\n",
    "import requests\n",
    "from bs4 import BeautifulSoup\n",
    "import pandas as pd\n",
    "import os\n",
    "import re\n",
    "from datetime import datetime\n",
    "import zipfile\n",
    "\n",
    "import pandas as pd\n",
    "import pymysql\n",
    "\n",
    "\n",
    "import ssl\n",
    "ssl._create_default_https_context = ssl._create_unverified_context"
   ]
  },
  {
   "cell_type": "code",
   "execution_count": null,
   "metadata": {},
   "outputs": [],
   "source": [
    "FOLDER_SC = \"/home/tanguy/data/movizz/screenshot\""
   ]
  },
  {
   "cell_type": "markdown",
   "metadata": {},
   "source": [
    "### Download images"
   ]
  },
  {
   "cell_type": "markdown",
   "metadata": {},
   "source": [
    "#### Get list of movie in film-grab"
   ]
  },
  {
   "cell_type": "code",
   "execution_count": null,
   "metadata": {},
   "outputs": [],
   "source": [
    "url = 'https://film-grab.com/movies-a-z/'\n",
    "req = requests.get(url)\n",
    "soup = BeautifulSoup(req.text, \"lxml\")\n",
    "\n",
    "l = [(s.text, s.a['href']) for s in soup.find('ul', {'class': 'display-posts-listing'}).find_all('li')]\n",
    "df_movies = pd.DataFrame(l, columns=['name', 'url'])"
   ]
  },
  {
   "cell_type": "code",
   "execution_count": null,
   "metadata": {},
   "outputs": [],
   "source": []
  },
  {
   "cell_type": "markdown",
   "metadata": {},
   "source": [
    "#### Get tt id from imdb from movie name"
   ]
  },
  {
   "cell_type": "code",
   "execution_count": null,
   "metadata": {},
   "outputs": [],
   "source": [
    "def get_tt_from_name(name):\n",
    "    formatted_movie_title = urllib.parse.quote(name)\n",
    "    url = f\"https://www.imdb.com/find?q={formatted_movie_title}&s=tt&ttype=ft&ref_=fn_ft\"\n",
    "    req = requests.get(url)\n",
    "    soup = BeautifulSoup(req.text, \"lxml\")\n",
    "    tmp_id = soup.find_all(\"td\", {\"class\": \"result_text\"})\n",
    "    if len(tmp_id) != 0:\n",
    "        movie_id = tmp_id[0].find('a')['href'][7:-1]\n",
    "    else:\n",
    "        movie_id = -1\n",
    "    return movie_id\n",
    "\n",
    "def get_tt_from_name_url(name, url):\n",
    "    req = requests.get(url)\n",
    "    soup = BeautifulSoup(req.text, \"lxml\")\n",
    "    str_url = soup.find_all('a', href=re.compile('https?://film-grab\\.com/category/[1-3][0-9]{3}/'))[0]['href']\n",
    "    year = re.search('https?://film-grab\\.com/category/([1-3][0-9]{3})/', str_url).group(1)\n",
    "    \n",
    "    formatted_movie_title = urllib.parse.quote(name + ' ' + year)\n",
    "    url2 = f\"https://www.imdb.com/find?q={formatted_movie_title}&s=tt&ttype=ft&ref_=fn_ft\"\n",
    "    req2 = requests.get(url2)\n",
    "    soup2 = BeautifulSoup(req2.text, \"lxml\")\n",
    "    tmp_id = soup2.find_all(\"td\", {\"class\": \"result_text\"})\n",
    "    if len(tmp_id) != 0:\n",
    "        movie_id = tmp_id[0].find('a')['href'][7:-1]\n",
    "    else:\n",
    "        movie_id = -1\n",
    "    return movie_id"
   ]
  },
  {
   "cell_type": "code",
   "execution_count": null,
   "metadata": {},
   "outputs": [],
   "source": [
    "list_tt = []\n",
    "for index, row in df_movies.iterrows():\n",
    "    name = row['name']\n",
    "    url = row['url']\n",
    "#     tt = get_tt_from_name_url(name, url)\n",
    "    tt = get_tt_from_name(name)\n",
    "    print(tt)\n",
    "    list_tt.append(tt)\n",
    "    \n",
    "df_movies['tt'] = list_tt"
   ]
  },
  {
   "cell_type": "code",
   "execution_count": null,
   "metadata": {},
   "outputs": [],
   "source": []
  },
  {
   "cell_type": "markdown",
   "metadata": {},
   "source": [
    "#### Download files"
   ]
  },
  {
   "cell_type": "code",
   "execution_count": null,
   "metadata": {},
   "outputs": [],
   "source": [
    "def download_url(url, save_path, chunk_size=128):\n",
    "    r = requests.get(url, stream=True)\n",
    "    with open(save_path, 'wb') as fd:\n",
    "        for chunk in r.iter_content(chunk_size=chunk_size):\n",
    "            fd.write(chunk)"
   ]
  },
  {
   "cell_type": "code",
   "execution_count": null,
   "metadata": {},
   "outputs": [],
   "source": [
    "list_dir = [d for d in [dirs for root, dirs, files in os.walk(FOLDER_SC)]][0]\n",
    "\n",
    "for index, row in df_movies.iterrows():\n",
    "    name = row['name']\n",
    "    url = row['url']\n",
    "    tt = row['tt']\n",
    "    print(name, tt, end=\" \")\n",
    "    if tt in list_dir:\n",
    "        print('(already dl)')\n",
    "        continue\n",
    "    \n",
    "    req = requests.get(url)\n",
    "    soup = BeautifulSoup(req.text, \"lxml\")\n",
    "    url_zip_tmp = soup.find('div', {'class': 'bwg_download_gallery'})\n",
    "    if url_zip_tmp == None:\n",
    "        print('(no button)')\n",
    "        continue\n",
    "    else:\n",
    "        url_zip = url_zip_tmp.a['href']\n",
    "    \n",
    "    tmp_path = f\"/home/tanguy/data/movizz/zip/tmp_{tt}.zip\"\n",
    "    path = os.path.join(FOLDER_SC, tt)\n",
    "    \n",
    "    download_url(url_zip, tmp_path)\n",
    "    \n",
    "    with zipfile.ZipFile(tmp_path,\"r\") as zip_ref:\n",
    "        zip_ref.extractall(path)\n",
    "    \n",
    "    print()"
   ]
  },
  {
   "cell_type": "markdown",
   "metadata": {},
   "source": [
    "#### Rename tt "
   ]
  },
  {
   "cell_type": "code",
   "execution_count": null,
   "metadata": {},
   "outputs": [],
   "source": [
    "list_dir = [d for d in [dirs for root, dirs, files in os.walk(FOLDER_SC)]][0]\n",
    "\n",
    "for tt in list_dir:\n",
    "    print(tt)\n",
    "    list_f_tt = [f for f in [files for root, dirs, files in os.walk(f\"/home/tanguy/data/movizz/screenshot/{tt}/\")]][0]\n",
    "    for i, f_tt in enumerate(list_f_tt):\n",
    "        ext = f_tt.split('.')[-1]\n",
    "        source_path = f\"/home/tanguy/data/movizz/screenshot/{tt}/{f_tt}\"\n",
    "        target_path = f\"/home/tanguy/data/movizz/screenshot/{tt}/{i}.{ext}\"\n",
    "        os.rename(source_path, target_path)"
   ]
  },
  {
   "cell_type": "markdown",
   "metadata": {},
   "source": [
    "### Fill database"
   ]
  },
  {
   "cell_type": "code",
   "execution_count": null,
   "metadata": {},
   "outputs": [],
   "source": []
  },
  {
   "cell_type": "code",
   "execution_count": null,
   "metadata": {},
   "outputs": [],
   "source": [
    "# Connect to the database\n",
    "connection = pymysql.connect(host='localhost',user='root',password='',db='quizz_db',\n",
    "                             charset='utf8mb4',cursorclass=pymysql.cursors.DictCursor)\n",
    "\n",
    "list_dir = [d for d in [dirs for root, dirs, files in os.walk(FOLDER_SC)]][0]\n",
    "\n",
    "for tt in list_dir:\n",
    "    with connection.cursor() as cursor:\n",
    "        cursor.execute(f\"SELECT id from quizz_movie WHERE imdb_id = '{tt}'\")\n",
    "        res = cursor.fetchall()\n",
    "    connection.commit()\n",
    "    print(tt, end='')\n",
    "    \n",
    "    if len(res) == 0:\n",
    "        print('(no movie in database)')\n",
    "        continue\n",
    "    else:\n",
    "        id_movie_db = res[0]['id']\n",
    "        \n",
    "        \n",
    "    \n",
    "    list_f_tt = [f for f in [files for root, dirs, files in os.walk(f\"/home/tanguy/workspace/git/guess_movie/data_process/screenshot/{tt}/\")]][0]\n",
    "    \n",
    "    for f_tt in list_f_tt:\n",
    "        str_image = f\"{tt}/{f_tt}\"\n",
    "        print(str_image)    \n",
    "    \n",
    "        with connection.cursor() as cursor:\n",
    "            # Create a new record\n",
    "            try:\n",
    "                sql = \"INSERT INTO `quizz_screenshot` (`movie_id`, `image`) VALUES (%s, %s)\"\n",
    "                cursor.execute(sql, (id_movie_db, str_image))\n",
    "            except:\n",
    "                print('E',end='')\n",
    "\n",
    "    connection.commit()\n",
    "#     break\n",
    "    \n",
    "    \n",
    "connection.close()"
   ]
  },
  {
   "cell_type": "markdown",
   "metadata": {},
   "source": [
    "#### Update has_image field"
   ]
  },
  {
   "cell_type": "code",
   "execution_count": null,
   "metadata": {},
   "outputs": [],
   "source": [
    "connection = pymysql.connect(host='localhost',user='root',password='',db='quizz_db',\n",
    "                             charset='utf8mb4',cursorclass=pymysql.cursors.DictCursor)\n",
    "\n",
    "list_dir = [d for d in [dirs for root, dirs, files in os.walk(FOLDER_SC)]][0]\n",
    "\n",
    "for tt in list_dir:\n",
    "    print(tt, end='')\n",
    "    with connection.cursor() as cursor:\n",
    "        cursor.execute(f\"SELECT id from quizz_movie WHERE imdb_id = '{tt}'\")\n",
    "        res = cursor.fetchall()\n",
    "    connection.commit()\n",
    "    print(tt, end='')\n",
    "    \n",
    "    if len(res) == 0:\n",
    "        print('(no movie in database)')\n",
    "        continue\n",
    "    else:\n",
    "        id_movie_db = res[0]['id']\n",
    "        \n",
    "    ##########################################    \n",
    "    # Add has_quote field\n",
    "    ##########################################\n",
    "    \n",
    "    with connection.cursor() as cursor:\n",
    "        cursor.execute(f\"SELECT count(*) from quizz_screenshot WHERE movie_id = '{id_movie_db}'\")\n",
    "        res = cursor.fetchall()\n",
    "    connection.commit()\n",
    "    \n",
    "    if res[0]['count(*)'] != 0:\n",
    "        with connection.cursor() as cursor:\n",
    "            cursor.execute(f\"UPDATE quizz_movie SET has_image=1 WHERE id='{id_movie_db}'\")\n",
    "        connection.commit()\n",
    "        \n",
    "        print('[OK]')\n",
    "    \n",
    "connection.close()"
   ]
  },
  {
   "cell_type": "code",
   "execution_count": null,
   "metadata": {},
   "outputs": [],
   "source": []
  },
  {
   "cell_type": "code",
   "execution_count": null,
   "metadata": {},
   "outputs": [],
   "source": []
  }
 ],
 "metadata": {
  "kernelspec": {
   "display_name": "Python 3",
   "language": "python",
   "name": "python3"
  },
  "language_info": {
   "codemirror_mode": {
    "name": "ipython",
    "version": 3
   },
   "file_extension": ".py",
   "mimetype": "text/x-python",
   "name": "python",
   "nbconvert_exporter": "python",
   "pygments_lexer": "ipython3",
   "version": "3.7.3"
  }
 },
 "nbformat": 4,
 "nbformat_minor": 2
}
