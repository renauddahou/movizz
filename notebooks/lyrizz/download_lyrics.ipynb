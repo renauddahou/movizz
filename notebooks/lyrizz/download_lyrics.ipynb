{
 "cells": [
  {
   "cell_type": "markdown",
   "metadata": {},
   "source": [
    "# Download lyrics from GENIUS\n",
    "From the list of songs (represented by artists/title) in df_tracks.csv, this notebook allows to search lyrics on Genius and download them."
   ]
  },
  {
   "cell_type": "code",
   "execution_count": null,
   "metadata": {},
   "outputs": [],
   "source": [
    "import requests\n",
    "import pandas as pd\n",
    "import numpy as np\n",
    "import unidecode\n",
    "\n",
    "import urllib.parse\n",
    "from bs4 import BeautifulSoup\n",
    "import os\n",
    "import re\n",
    "import os.path\n",
    "from requests.utils import requote_uri\n",
    "import pickle\n",
    "\n",
    "import pandas as pd\n",
    "df_tracks = pd.read_csv('lyrizz/csv/df_tracks.csv', sep=';')\n",
    "\n",
    "# GENIUS API\n",
    "TOKEN_GENIUS = 'YOUR***GENIUS***TOKEN'\n",
    "HEADERS = {'Authorization': f'Bearer {TOKEN_GENIUS}'}"
   ]
  },
  {
   "cell_type": "markdown",
   "metadata": {},
   "source": [
    "### Functions definition"
   ]
  },
  {
   "cell_type": "code",
   "execution_count": null,
   "metadata": {},
   "outputs": [],
   "source": [
    "def filter_title(name):\n",
    "    # Try de remove \"- Remastered ...\"\n",
    "    name = name.split(' - ')[0]\n",
    "    \n",
    "    # Try de remove \" (Remastered ...)\"\n",
    "    name = name.split('(')[0]\n",
    "\n",
    "    # Remove space at begin/end\n",
    "    name = name.strip()\n",
    "    return name\n",
    "\n",
    "def filter_artist(name):\n",
    "    # Try de remove others artists\n",
    "    name = name.split(',')[0]\n",
    "    \n",
    "    # Try de remove \" (Feat ...)\"\n",
    "    name = name.split('(')[0]\n",
    "\n",
    "    # Remove space at begin/end\n",
    "    name = name.strip()\n",
    "    return name"
   ]
  },
  {
   "cell_type": "code",
   "execution_count": null,
   "metadata": {},
   "outputs": [],
   "source": [
    "def search_song(artist, title):\n",
    "    \"\"\"\n",
    "    Search on Genius from artist and title\n",
    "    \"\"\"\n",
    "    url = requote_uri(f\"https://api.genius.com/search?q={artist} - {title}\")\n",
    "    r = requests.get(url, headers=HEADERS)\n",
    "    hits = r.json()['response']['hits']\n",
    "    # No response in search\n",
    "    if len(hits) == 0:\n",
    "        return None,None,None,None\n",
    "    \n",
    "    search = hits[0]['result']\n",
    "    img = search['header_image_url']\n",
    "    url2 = search['url']\n",
    "    id_song = search['api_path'].split('/')[-1]\n",
    "    if 'media' in search:\n",
    "        spotify_url = [e['url'] for e in search['media'] if e['provider']=='spotify']\n",
    "        if len(spotify_url)==1:\n",
    "            spotify_url = spotify_url[0]\n",
    "        else:\n",
    "            spotify_url = None\n",
    "    else:\n",
    "        spotify_url = None\n",
    "        \n",
    "    url3 = requote_uri(f\"https://api.genius.com/songs/{id_song}\")\n",
    "    r3 = requests.get(url3, headers=HEADERS)\n",
    "    search3 = r3.json()['response']\n",
    "    apple_id = search3['song']['apple_music_id']\n",
    "    \n",
    "    return url2, img, spotify_url, apple_id"
   ]
  },
  {
   "cell_type": "code",
   "execution_count": null,
   "metadata": {},
   "outputs": [],
   "source": [
    "def process_text(s):\n",
    "    s = s.replace('genius', '')\n",
    "    s = s.replace('lyrics', '')\n",
    "    s = unidecode.unidecode(s.lower())\n",
    "    s = re.sub('[\\W_]', '', s)\n",
    "    \n",
    "    return s"
   ]
  },
  {
   "cell_type": "code",
   "execution_count": null,
   "metadata": {},
   "outputs": [],
   "source": [
    "def get_raw_lyrics(url, artist, title):\n",
    "    \"\"\"\n",
    "    From Genius lyric page url, get lyrics and check (True if lyrics seem to be correct)\n",
    "    \"\"\"\n",
    "    page = requests.get(url)\n",
    "    html = BeautifulSoup(page.text, \"html.parser\")\n",
    "    for br in html.find_all(\"br\"):\n",
    "        br.replace_with(\"\\n\")\n",
    "\n",
    "    div = html.find(\"div\", id=\"lyrics-root\")\n",
    "    if div == None:\n",
    "        div = html.find(\"div\", class_=\"lyrics\")\n",
    "        if div == None:\n",
    "            div = html.find(\"div\", class_=\"Lyrics__Container-sc-1ynbvzw-2 jgQsqn\")\n",
    "            if div == None:\n",
    "                return None, None\n",
    "    text = div.get_text()\n",
    "    parts = text.split(\"\\n\\n\")#.find_all(\"span\")\n",
    "    lyrics = [p.split(\"\\n\") for p in parts]\n",
    "    \n",
    "    lyrics[-1][-1] = re.sub(r'\\d*EmbedShare URLCopyEmbedCopy','', lyrics[-1][-1])\n",
    "    \n",
    "    ### Check\n",
    "    infos = html.find(\"title\").get_text().lower().replace(u'\\xa0', u' ')\n",
    "    check=False\n",
    "    if process_text(artist) in process_text(infos) and process_text(title) in process_text(infos):\n",
    "        check=True\n",
    "        \n",
    "    return lyrics, check"
   ]
  },
  {
   "cell_type": "code",
   "execution_count": null,
   "metadata": {},
   "outputs": [],
   "source": [
    "def write_txt_file(lyrics, track_id):\n",
    "    s=\"\"\n",
    "    for parts in lyrics:\n",
    "        for p in parts:\n",
    "            s+=p+\"\\n\"\n",
    "        s+=\"\\n\"\n",
    "    with open(f'lyrizz/txt/{track_id}.txt', 'w') as f:\n",
    "        f.write(s)"
   ]
  },
  {
   "cell_type": "code",
   "execution_count": null,
   "metadata": {},
   "outputs": [],
   "source": [
    "def is_available(lyrics, check, spotify_url, apple_id):\n",
    "    res = True\n",
    "    if lyrics == None:\n",
    "        res = False\n",
    "    if not check:\n",
    "        res = False\n",
    "    return res"
   ]
  },
  {
   "cell_type": "code",
   "execution_count": null,
   "metadata": {},
   "outputs": [],
   "source": [
    "def save_image(img_url, track_id):\n",
    "    img_data = requests.get(img_url).content\n",
    "    file_name = img_url.split('/')[-1]\n",
    "    if '.' not in file_name:\n",
    "        ext='jpg'\n",
    "    else:\n",
    "        ext = file_name.split('.')[-1]\n",
    "    with open(f'lyrizz/images/{track_id}.{ext}', 'wb') as handler:\n",
    "        handler.write(img_data)"
   ]
  },
  {
   "cell_type": "code",
   "execution_count": null,
   "metadata": {},
   "outputs": [],
   "source": []
  },
  {
   "cell_type": "markdown",
   "metadata": {},
   "source": [
    "### Process\n",
    "- Clean artist and title\n",
    "- Search song on Genius API\n",
    "- If song exists and lyrics available on Genius, download lyrics and image"
   ]
  },
  {
   "cell_type": "code",
   "execution_count": null,
   "metadata": {
    "scrolled": true
   },
   "outputs": [],
   "source": [
    "LIST_BUG=[]\n",
    "for i in range(len(df_tracks)):\n",
    "    track = df_tracks.iloc[i]\n",
    "    track_id = track['track_id']\n",
    "    artist, title = track['artists'], track['name']\n",
    "    artist = filter_artist(artist)\n",
    "    title = filter_title(title)\n",
    "    \n",
    "    if os.path.isfile(f'lyrizz/txt/{track_id}.txt'):\n",
    "        print('[ALREADY]', artist, title)\n",
    "    elif if track_id in LIST_BUG:\n",
    "        print('[BUG]', artist, title)\n",
    "        pass\n",
    "    else:\n",
    "#         print(artist, title)\n",
    "        url, img, spotify_url, apple_id = search_song(artist, title)\n",
    "\n",
    "        if url == None:\n",
    "            available = False\n",
    "        else:\n",
    "            lyrics, check = get_raw_lyrics(url, artist, title)\n",
    "            available = is_available(lyrics, check, spotify_url, apple_id)\n",
    "\n",
    "        if available:\n",
    "            print(artist, title, track_id)\n",
    "            save_image(img, track_id)\n",
    "            write_txt_file(lyrics, track_id)\n",
    "        else:\n",
    "            LIST_BUG.append(track_id)\n",
    "            print('[BUG]', artist, title, url)"
   ]
  }
 ],
 "metadata": {
  "kernelspec": {
   "display_name": "Python 3",
   "language": "python",
   "name": "python3"
  },
  "language_info": {
   "codemirror_mode": {
    "name": "ipython",
    "version": 3
   },
   "file_extension": ".py",
   "mimetype": "text/x-python",
   "name": "python",
   "nbconvert_exporter": "python",
   "pygments_lexer": "ipython3",
   "version": "3.7.3"
  }
 },
 "nbformat": 4,
 "nbformat_minor": 2
}
