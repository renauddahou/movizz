{
 "cells": [
  {
   "cell_type": "markdown",
   "metadata": {},
   "source": [
    "# Translate english lyrics to french\n",
    "We use argosmodel to translate sentences for free offline. You need to download models on the [Google Drive](https://drive.google.com/drive/folders/11wxM3Ze7NCgOk_tdtRjwet10DmtvFu3i) of Argos before."
   ]
  },
  {
   "cell_type": "code",
   "execution_count": null,
   "metadata": {},
   "outputs": [],
   "source": [
    "import pandas as pd\n",
    "import os\n",
    "import pymysql\n",
    "import re\n",
    "from os import walk\n",
    "import unidecode\n",
    "from pymysql import DataError\n",
    "from collections import Counter\n",
    "from langdetect import detect_langs, detect\n",
    "from argostranslate import package, translate\n",
    "package.install_from_path('en_fr.argosmodel')\n",
    "installed_languages = translate.load_installed_languages()\n",
    "TL = installed_languages[0].get_translation(installed_languages[1])"
   ]
  },
  {
   "cell_type": "markdown",
   "metadata": {},
   "source": [
    "### Detect lang and insert in database"
   ]
  },
  {
   "cell_type": "code",
   "execution_count": null,
   "metadata": {
    "scrolled": true
   },
   "outputs": [],
   "source": [
    "connection = pymysql.connect(host='localhost',user='django2',password='password',db='quizz_db',\n",
    "                             charset='utf8mb4',cursorclass=pymysql.cursors.DictCursor)\n",
    "\n",
    "with connection.cursor() as cursor:\n",
    "    cursor.execute(f\"SELECT id, artists, name from lyrizz_song\")\n",
    "    songs = cursor.fetchall()\n",
    "connection.commit()\n",
    "\n",
    "\n",
    "for raw_song in songs:\n",
    "    id = raw_song['id']\n",
    "    artists = raw_song['artists']\n",
    "    name = raw_song['name']\n",
    "    with connection.cursor() as cursor:\n",
    "        cursor.execute(f\"SELECT * from lyrizz_lyrics WHERE song_id='{id}'\")\n",
    "        lyrics = cursor.fetchall()\n",
    "    connection.commit()\n",
    "    \n",
    "    count_lang = []\n",
    "    for raw_lyric in lyrics:\n",
    "        text = raw_lyric['lyrics_text']\n",
    "        try:\n",
    "            tmp_lang = detect(text)\n",
    "            count_lang.append(tmp_lang)\n",
    "        except Exception:\n",
    "            pass\n",
    "    lang = Counter(count_lang).most_common()[0][0]\n",
    "    print(f'[{lang}] {artists} - {name}')\n",
    "    \n",
    "    \n",
    "    with connection.cursor() as cursor:\n",
    "        cursor.execute(f'UPDATE lyrizz_song SET lang=\"{lang}\" WHERE id=\"{id}\"')\n",
    "        connection.commit()\n",
    "\n",
    "connection.close()"
   ]
  },
  {
   "cell_type": "markdown",
   "metadata": {},
   "source": [
    "### Copy lyrics in raw_lyrics_text field"
   ]
  },
  {
   "cell_type": "code",
   "execution_count": null,
   "metadata": {},
   "outputs": [],
   "source": [
    "connection = pymysql.connect(host='localhost',user='django2',password='password',db='quizz_db',\n",
    "                             charset='utf8mb4',cursorclass=pymysql.cursors.DictCursor)\n",
    "\n",
    "with connection.cursor() as cursor:\n",
    "    cursor.execute(f\"SELECT id, lyrics_text from lyrizz_lyrics\")\n",
    "    res = cursor.fetchall()\n",
    "connection.commit()\n",
    "\n",
    "\n",
    "for raw in res:\n",
    "    id = raw['id']\n",
    "    lyrics_text = raw['lyrics_text'].replace('\"','\\\\\"')\n",
    "    \n",
    "    with connection.cursor() as cursor:\n",
    "        cursor.execute(f'UPDATE lyrizz_lyrics SET raw_lyrics_text=\"{lyrics_text}\" WHERE id=\"{id}\"')\n",
    "        connection.commit()\n",
    "\n",
    "connection.close()"
   ]
  },
  {
   "cell_type": "code",
   "execution_count": null,
   "metadata": {},
   "outputs": [],
   "source": []
  },
  {
   "cell_type": "markdown",
   "metadata": {},
   "source": [
    "### Translate if necessary and insert in lyrics_text field"
   ]
  },
  {
   "cell_type": "code",
   "execution_count": null,
   "metadata": {},
   "outputs": [],
   "source": [
    "connection = pymysql.connect(host='localhost',user='django2',password='password',db='quizz_db',\n",
    "                             charset='utf8mb4',cursorclass=pymysql.cursors.DictCursor)\n",
    "\n",
    "with connection.cursor() as cursor:\n",
    "    cursor.execute(f\"SELECT id, artists, name, lang from lyrizz_song\")\n",
    "    songs = cursor.fetchall()\n",
    "connection.commit()\n",
    "\n",
    "\n",
    "for raw_song in songs:\n",
    "    id = raw_song['id']\n",
    "    artists = raw_song['artists']\n",
    "    name = raw_song['name']\n",
    "    lang = raw_song['lang']\n",
    "    if lang == 'en':\n",
    "        with connection.cursor() as cursor:\n",
    "            cursor.execute(f\"SELECT * from lyrizz_lyrics WHERE song_id='{id}'\")\n",
    "            lyrics = cursor.fetchall()\n",
    "        connection.commit()\n",
    "\n",
    "        for raw_lyric in lyrics:\n",
    "            id_lyric = raw_lyric['id']\n",
    "            text = raw_lyric['raw_lyrics_text']\n",
    "            new_text = TL.translate(text)\n",
    "            # Escape non escaped quotes\n",
    "            new_text = re.sub(r'(?<!\\\\)\"','\\\\\"', new_text)\n",
    "    \n",
    "            # /!\\ aux guillemets\n",
    "            try:\n",
    "                with connection.cursor() as cursor:\n",
    "                    cursor.execute(f'UPDATE lyrizz_lyrics SET lyrics_text=\"{new_text}\" WHERE id=\"{id_lyric}\"')\n",
    "                    connection.commit()\n",
    "            except Exception:\n",
    "                pass\n",
    "            \n",
    "    print(artists, '-', name, id)\n",
    "\n",
    "connection.close()"
   ]
  },
  {
   "cell_type": "code",
   "execution_count": null,
   "metadata": {},
   "outputs": [],
   "source": []
  }
 ],
 "metadata": {
  "kernelspec": {
   "display_name": "Python 3",
   "language": "python",
   "name": "python3"
  },
  "language_info": {
   "codemirror_mode": {
    "name": "ipython",
    "version": 3
   },
   "file_extension": ".py",
   "mimetype": "text/x-python",
   "name": "python",
   "nbconvert_exporter": "python",
   "pygments_lexer": "ipython3",
   "version": "3.7.3"
  }
 },
 "nbformat": 4,
 "nbformat_minor": 2
}
