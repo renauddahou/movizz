{
 "cells": [
  {
   "cell_type": "markdown",
   "metadata": {},
   "source": [
    "# Parse .txt files and insert in databases\n",
    "The lyrics files are cleaned and then the songs/lyrics are added to the database"
   ]
  },
  {
   "cell_type": "code",
   "execution_count": null,
   "metadata": {},
   "outputs": [],
   "source": [
    "import pandas as pd\n",
    "import os\n",
    "import pymysql\n",
    "import re\n",
    "from os import walk\n",
    "import unidecode\n",
    "from pymysql import DataError"
   ]
  },
  {
   "cell_type": "code",
   "execution_count": null,
   "metadata": {},
   "outputs": [],
   "source": [
    "FOLDER_IMG = \"/home/tanguy/data/lyrizz/images\"\n",
    "FOLDER_CSV = \"/home/tanguy/data/lyrizz/csv\"\n",
    "FOLDER_TXT = '/home/tanguy/data/lyrizz/txt'"
   ]
  },
  {
   "cell_type": "code",
   "execution_count": null,
   "metadata": {},
   "outputs": [],
   "source": [
    "df_tracks = pd.read_csv(os.path.join(FOLDER_CSV, 'df_tracks.csv'), sep=';')\n",
    "filenames = next(walk(FOLDER_TXT), (None, None, []))[2]\n",
    "list_track = [track_id[:-4] for track_id in filenames]\n",
    "\n",
    "tracks = df_tracks[df_tracks['track_id'].isin(list_track)]"
   ]
  },
  {
   "cell_type": "code",
   "execution_count": null,
   "metadata": {},
   "outputs": [],
   "source": []
  },
  {
   "cell_type": "markdown",
   "metadata": {},
   "source": [
    "### Functions definition"
   ]
  },
  {
   "cell_type": "code",
   "execution_count": null,
   "metadata": {},
   "outputs": [],
   "source": [
    "# Sometimes section is indicated in lyrics\n",
    "def get_section_from_line(line):\n",
    "    line = line.lower()\n",
    "    if 'parole' in line or 'lyric' in line:\n",
    "        return ''\n",
    "    elif 'intro' in line:\n",
    "        return 'intro'\n",
    "    elif 'refrain' in line or 'chorus' in line:\n",
    "        return 'chorus'\n",
    "    elif 'couplet' in line or 'verse' in line:\n",
    "        return 'verse'\n",
    "    elif 'outro' in line:\n",
    "        return 'outro'\n",
    "    elif 'bridge' in line or 'pont' in line:\n",
    "        return 'bridge'\n",
    "    elif 'break' in line or 'pause' in line:\n",
    "        return 'break'\n",
    "    elif 'hook' in line or 'crochet' in line:\n",
    "        return 'hook'\n",
    "    else:\n",
    "        return ''"
   ]
  },
  {
   "cell_type": "code",
   "execution_count": null,
   "metadata": {},
   "outputs": [],
   "source": [
    "def filter_title(name):\n",
    "    # Try de remove \"- Remastered ...\"\n",
    "    name = name.split(' - ')[0]\n",
    "    \n",
    "    # Try de remove \" (Remastered ...)\"\n",
    "    name = name.split('(')[0]\n",
    "\n",
    "    # Remove space at begin/end\n",
    "    name = name.strip()\n",
    "    return name\n",
    "\n",
    "def filter_artist(name):\n",
    "    # Try de remove others artists\n",
    "    name = name.split(',')[0]\n",
    "    \n",
    "    # Try de remove \" (Feat ...)\"\n",
    "    name = name.split('(')[0]\n",
    "\n",
    "    # Remove space at begin/end\n",
    "    name = name.strip()\n",
    "    return name"
   ]
  },
  {
   "cell_type": "markdown",
   "metadata": {},
   "source": [
    "### Insert song and lyrics into the database"
   ]
  },
  {
   "cell_type": "code",
   "execution_count": null,
   "metadata": {},
   "outputs": [],
   "source": [
    "### Insert in database\n",
    "LIST_IMG = next(walk(FOLDER_IMG), (None, None, []))[2]\n",
    "connection = pymysql.connect(host='localhost',user='django2',password='password',db='quizz_db',\n",
    "                             charset='utf8mb4',cursorclass=pymysql.cursors.DictCursor)\n",
    "for i in range(len(tracks)):\n",
    "    raw = tracks.iloc[i]\n",
    "    track_id = raw['track_id']\n",
    "    filename = os.path.join(FOLDER_TXT, f'{track_id}.txt')\n",
    "    with open(filename) as f:\n",
    "        lines = f.readlines()\n",
    "\n",
    "    if len(lines)<10:\n",
    "        print(track_id, 'No lyrics')\n",
    "        continue\n",
    "        \n",
    "    ##########################################\n",
    "    # Add song in database\n",
    "    ##########################################\n",
    "    track_id = raw['track_id']\n",
    "    artists = raw['artists']\n",
    "    name = raw['name']\n",
    "    \n",
    "    artists = filter_artist(artists)\n",
    "    name = filter_title(name)\n",
    "    \n",
    "    popularity = raw['popularity']\n",
    "    year = int(raw['release_date'].split('-')[0])\n",
    "    \n",
    "    image = [x for x in LIST_IMG if x.startswith(track_id)][0]\n",
    "    \n",
    "    print(track_id, end=' ')\n",
    "    with connection.cursor() as cursor:\n",
    "        cursor.execute(f\"SELECT id from lyrizz_song WHERE spotify_id = '{track_id}'\")\n",
    "        res = cursor.fetchall()\n",
    "    connection.commit()\n",
    "    \n",
    "    if len(res) == 0:\n",
    "        with connection.cursor() as cursor:\n",
    "            # Create a new record\n",
    "            sql = \"INSERT INTO `lyrizz_song` (`spotify_id`, `name`, `artists`, `popularity`, `year`, `image`, `has_quote`, `has_image`) VALUES (%s, %s, %s, %s, %s, %s, %s, %s)\"\n",
    "            try:\n",
    "                cursor.execute(sql, (track_id, name[:200], artists[:200], int(popularity), year, f'covers_lyrizz/{track_id}.jpg', 1, 1))\n",
    "            except DataError:\n",
    "                cursor.execute(sql, (track_id, unidecode.unidecode(name[:200]), unidecode.unidecode(artists[:200]), int(popularity), year, f'covers_lyrizz/{track_id}.jpg', 1, 1))\n",
    "            song_id = cursor.lastrowid\n",
    "        connection.commit()\n",
    "    else:\n",
    "        song_id = res[0]['id']\n",
    "        print('ALREADY')\n",
    "        continue\n",
    "        \n",
    "        \n",
    "    section = ''\n",
    "    count=0\n",
    "    for l in lines:\n",
    "        if l[0] == '[':\n",
    "            section = get_section_from_line(l)\n",
    "            continue\n",
    "        if l=='\\n':\n",
    "            continue\n",
    "        l = l.replace('\\n', '')\n",
    "        l = unidecode.unidecode(l)\n",
    "        ##########################################    \n",
    "        # Add lyrics in database\n",
    "        ##########################################\n",
    "\n",
    "        with connection.cursor() as cursor:\n",
    "            # Create a new record\n",
    "            sql = \"INSERT INTO `lyrizz_lyrics` (`lyrics_text`, `section`, `song_id`) VALUES (%s, %s, %s)\"\n",
    "            try:\n",
    "                cursor.execute(sql, (l, section, song_id))\n",
    "                count+=1\n",
    "            except:\n",
    "                cursor.execute(sql, (unidecode.unidecode(l), section, song_id))\n",
    "                print('U',end='')\n",
    "\n",
    "        connection.commit()\n",
    "        \n",
    "    print(' ', count)\n",
    "connection.close()"
   ]
  },
  {
   "cell_type": "markdown",
   "metadata": {},
   "source": [
    "### Insert image name in database"
   ]
  },
  {
   "cell_type": "code",
   "execution_count": null,
   "metadata": {},
   "outputs": [],
   "source": [
    "### update image name in db\n",
    "LIST_IMG = next(walk(FOLDER_IMG), (None, None, []))[2]\n",
    "connection = pymysql.connect(host='localhost',user='django2',password='password',db='quizz_db',\n",
    "                             charset='utf8mb4',cursorclass=pymysql.cursors.DictCursor)\n",
    "with connection.cursor() as cursor:\n",
    "    cursor.execute(\"SELECT spotify_id from lyrizz_song\")\n",
    "    res = cursor.fetchall()\n",
    "connection.commit()\n",
    "\n",
    "for track in res:\n",
    "    track_id = track['spotify_id']\n",
    "    image = [x for x in LIST_IMG if x.startswith(track_id)][0]\n",
    "\n",
    "    with connection.cursor() as cursor:\n",
    "        cursor.execute(f\"UPDATE lyrizz_song SET image='covers_lyrizz/{image}' WHERE spotify_id='{track_id}'\")\n",
    "    connection.commit()\n",
    "        \n",
    "    print(image)\n",
    "    \n",
    "connection.close()"
   ]
  },
  {
   "cell_type": "code",
   "execution_count": null,
   "metadata": {},
   "outputs": [],
   "source": []
  },
  {
   "cell_type": "code",
   "execution_count": null,
   "metadata": {},
   "outputs": [],
   "source": []
  }
 ],
 "metadata": {
  "kernelspec": {
   "display_name": "Python 3",
   "language": "python",
   "name": "python3"
  },
  "language_info": {
   "codemirror_mode": {
    "name": "ipython",
    "version": 3
   },
   "file_extension": ".py",
   "mimetype": "text/x-python",
   "name": "python",
   "nbconvert_exporter": "python",
   "pygments_lexer": "ipython3",
   "version": "3.7.3"
  }
 },
 "nbformat": 4,
 "nbformat_minor": 2
}
